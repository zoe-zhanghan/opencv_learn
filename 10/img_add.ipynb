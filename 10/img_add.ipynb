{
 "cells": [
  {
   "cell_type": "code",
   "execution_count": 1,
   "metadata": {
    "collapsed": true,
    "pycharm": {
     "name": "#%%图像加法，opencv加法是饱和操作，即超出表示范围则为255，numpy加法超出范围则取模\n",
     "is_executing": false
    }
   },
   "outputs": [
    {
     "name": "stdout",
     "text": [
      "[[255]]\n[4]\n"
     ],
     "output_type": "stream"
    }
   ],
   "source": [
    "import numpy as np\n",
    "import cv2\n",
    "x = np.uint8([250])\n",
    "y = np.uint8([10])\n",
    "print(cv2.add(x,y))\n",
    "print(x+y)\n"
   ]
  },
  {
   "cell_type": "code",
   "execution_count": 3,
   "outputs": [],
   "source": [
    "import cv2\n",
    "\n",
    "img1 = cv2.imread('../ml_resize.jpg', cv2.IMREAD_COLOR)\n",
    "img2 = cv2.imread('../lena.jpg', cv2.IMREAD_COLOR)\n",
    "\n",
    "dst = cv2.addWeighted(img1, 0.3, img2, 0.7, 0)\n",
    "cv2.imshow('dst', dst)\n",
    "cv2.waitKey(0)\n",
    "cv2.destroyAllWindows()"
   ],
   "metadata": {
    "collapsed": false,
    "pycharm": {
     "name": "#%% 混合图像：dst=alpha*img1+beta*img2+gamma\n",
     "is_executing": false
    }
   }
  },
  {
   "cell_type": "code",
   "execution_count": 9,
   "outputs": [],
   "source": [
    "import cv2\n",
    "import numpy as np\n",
    "# 加载图像\n",
    "img1 = cv2.imread('../ml_resize.jpg')\n",
    "img2 = cv2.imread('../lena.jpg')\n",
    "# I want to put logo on top-left corner, So I create a ROI\n",
    "rows,cols,channels = img2.shape\n",
    "roi = img1[0:rows, 0:cols ]\n",
    "# Now create a mask of logo and create its inverse mask also\n",
    "img2gray = cv2.cvtColor(img2,cv2.COLOR_BGR2GRAY)\n",
    "ret, mask = cv2.threshold(img2gray, 175, 255, cv2.THRESH_BINARY)\n",
    "mask_inv = cv2.bitwise_not(mask)\n",
    "# Now black-out the area of logo in ROI\n",
    "# 取roi 中与mask 中不为零的值对应的像素的值，其他值为0\n",
    "# 注意这里必须有mask=mask 或者mask=mask_inv, 其中的mask= 不能忽略\n",
    "img1_bg = cv2.bitwise_and(roi,roi,mask = mask)\n",
    "cv2.imshow('img1_gb', img1_bg)\n",
    "cv2.waitKey(0)\n",
    "# 取roi 中与mask_inv 中不为零的值对应的像素的值，其他值为0。\n",
    "# Take only region of logo from logo image.\n",
    "img2_fg = cv2.bitwise_and(img2,img2,mask = mask_inv)\n",
    "cv2.imshow('img2_fg', img2_fg)\n",
    "cv2.waitKey(0)\n",
    "# Put logo in ROI and modify the main image\n",
    "dst = cv2.add(img1_bg,img2_fg)\n",
    "img1[0:rows, 0:cols ] = dst\n",
    "cv2.imshow('res',img1)\n",
    "cv2.waitKey(0)\n",
    "cv2.destroyAllWindows()\n",
    "\n"
   ],
   "metadata": {
    "collapsed": false,
    "pycharm": {
     "name": "#%% 设置阈值，创建mask，两张图像分别和mask及inv_mask按位与，然后再相加，即可得到较好的融合效果\n",
     "is_executing": false
    }
   }
  }
 ],
 "metadata": {
  "kernelspec": {
   "display_name": "Python 3",
   "language": "python",
   "name": "python3"
  },
  "language_info": {
   "codemirror_mode": {
    "name": "ipython",
    "version": 2
   },
   "file_extension": ".py",
   "mimetype": "text/x-python",
   "name": "python",
   "nbconvert_exporter": "python",
   "pygments_lexer": "ipython2",
   "version": "2.7.6"
  },
  "pycharm": {
   "stem_cell": {
    "cell_type": "raw",
    "source": [
     "学习图像上的算术运算"
    ],
    "metadata": {
     "collapsed": false
    }
   }
  }
 },
 "nbformat": 4,
 "nbformat_minor": 0
}