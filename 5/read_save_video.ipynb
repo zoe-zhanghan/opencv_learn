{
 "cells": [
  {
   "cell_type": "code",
   "execution_count": 1,
   "metadata": {
    "collapsed": true,
    "pycharm": {
     "is_executing": false,
     "name": "#%%从摄像头读帧\n"
    }
   },
   "outputs": [],
   "source": [
    "import numpy as np\n",
    "import cv2\n",
    "\n",
    "cap = cv2.VideoCapture(0)\n",
    "while True:\n",
    "    ret, frame = cap.read()\n",
    "    gray = cv2.cvtColor(frame, cv2.COLOR_BGR2GRAY)\n",
    "    cv2.imshow('frame', gray)\n",
    "    if cv2.waitKey(0):\n",
    "        break\n",
    "cap.release()\n",
    "cv2.destroyAllWindows()"
   ]
  },
  {
   "cell_type": "code",
   "execution_count": 2,
   "outputs": [
    {
     "name": "stdout",
     "text": [
      "848.0 480.0 29.980549871345502 1973.0 0.0 0.0\n0.0 828601953.0 0.0\n"
     ],
     "output_type": "stream"
    }
   ],
   "source": [
    "import cv2\n",
    "cap = cv2.VideoCapture('../video.mp4')\n",
    "width = cap.get(cv2.CAP_PROP_FRAME_WIDTH)\n",
    "height = cap.get(cv2.CAP_PROP_FRAME_HEIGHT)\n",
    "rate = cap.get(cv2.CAP_PROP_FPS)\n",
    "hue = cap.get(cv2.CAP_PROP_HUE)\n",
    "frameCnt = cap.get(cv2.CAP_PROP_FRAME_COUNT)\n",
    "curPosMSEC = cap.get(cv2.CAP_PROP_POS_MSEC)\n",
    "curPosFrame = cap.get(cv2.CAP_PROP_POS_FRAMES)\n",
    "codec = cap.get(cv2.CAP_PROP_FOURCC)\n",
    "mode = cap.get(cv2.CAP_PROP_MODE)\n",
    "print(width, height, rate, frameCnt, curPosMSEC, curPosFrame)\n",
    "print(hue, codec, mode)"
   ],
   "metadata": {
    "collapsed": false,
    "pycharm": {
     "name": "#%%从视频读帧\n",
     "is_executing": false
    }
   }
  },
  {
   "cell_type": "code",
   "execution_count": 3,
   "outputs": [],
   "source": [
    "import numpy as np\n",
    "import cv2  \n",
    "\n",
    "cap = cv2.VideoCapture('../video.mp4')\n",
    "# XVID-编码方式，用四位ascii编码组成，通过chr(codec&0xFF)可查看四位字符，全部字符手册见http://www.fourcc.org/codecs.php\n",
    "fourcc = cv2.VideoWriter_fourcc(*'XVID')\n",
    "# 20.0-帧率，相同写入帧数，设置帧率越大则输出视频时长越短，反之时长越长\n",
    "out = cv2.VideoWriter('output.avi', fourcc, 20.0, (int(cap.get(cv2.CAP_PROP_FRAME_WIDTH)), int(cap.get(cv2.CAP_PROP_FRAME_HEIGHT))))\n",
    "\n",
    "while cap.isOpened():\n",
    "    ret, frame = cap.read()\n",
    "    if ret is True:\n",
    "        frame = cv2.flip(frame, 0)\n",
    "        out.write(frame)\n",
    "        \n",
    "        cv2.imshow('frame', frame)\n",
    "        # ord('q')：q的ASCII码\n",
    "        # waitKey(1)：图片展示1ms，等待键盘按键。若1ms内无键盘案件，图片停止展示，返回-1；若1ms内有键盘按键，则立即停止展示，返回按键的ASCII码\n",
    "        if cv2.waitKey(1) & 0xFF == ord('q'): \n",
    "            break\n",
    "    else:\n",
    "        break\n",
    "cap.release()\n",
    "out.release()\n",
    "cv2.destroyAllWindows()"
   ],
   "metadata": {
    "collapsed": false,
    "pycharm": {
     "name": "#%%写视频帧\n",
     "is_executing": false
    }
   }
  }
 ],
 "metadata": {
  "kernelspec": {
   "display_name": "Python 3",
   "language": "python",
   "name": "python3"
  },
  "language_info": {
   "codemirror_mode": {
    "name": "ipython",
    "version": 2
   },
   "file_extension": ".py",
   "mimetype": "text/x-python",
   "name": "python",
   "nbconvert_exporter": "python",
   "pygments_lexer": "ipython2",
   "version": "2.7.6"
  },
  "pycharm": {
   "stem_cell": {
    "cell_type": "raw",
    "source": [],
    "metadata": {
     "collapsed": false
    }
   }
  }
 },
 "nbformat": 4,
 "nbformat_minor": 0
}