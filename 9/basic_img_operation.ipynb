{
 "cells": [
  {
   "cell_type": "code",
   "execution_count": 2,
   "metadata": {
    "collapsed": true,
    "pycharm": {
     "name": "#%%获取并修改像素\n",
     "is_executing": false
    }
   },
   "outputs": [
    {
     "name": "stdout",
     "text": [
      "[ 78  68 178]\n[255 255 255]\n255\n100\n"
     ],
     "output_type": "stream"
    }
   ],
   "source": [
    "import cv2\n",
    "import numpy as np\n",
    "\n",
    "img = cv2.imread('../lena.jpg', cv2.IMREAD_COLOR)\n",
    "print(img[100,100])\n",
    "img[100,100] = [255,255,255]\n",
    "print(img[100,100])\n",
    "\n",
    "# 获取r通道像素点更好的方法，不必遍历矩阵\n",
    "print(img.item(100,100,2))\n",
    "img.itemset((100,100,2),100)\n",
    "print(img.item(100,100,2))"
   ]
  },
  {
   "cell_type": "code",
   "execution_count": 5,
   "outputs": [
    {
     "name": "stdout",
     "text": [
      "(512, 512, 3)\n786432\nuint8\n"
     ],
     "output_type": "stream"
    }
   ],
   "source": [
    "import cv2\n",
    "import numpy as np\n",
    "\n",
    "img = cv2.imread('../lena.jpg', cv2.IMREAD_COLOR)\n",
    "# img.shape返回行数，列数，通道数组成的三元组\n",
    "print(img.shape)\n",
    "# img.size返回图像的像素数目\n",
    "print(img.size)\n",
    "# img.dtype反回图像数据类型\n",
    "print(img.dtype)"
   ],
   "metadata": {
    "collapsed": false,
    "pycharm": {
     "name": "#%%获取图像大小\n",
     "is_executing": false
    }
   }
  },
  {
   "cell_type": "code",
   "execution_count": 8,
   "outputs": [],
   "source": [
    "import cv2\n",
    "import numpy as np\n",
    "\n",
    "img = cv2.imread('../lena.jpg', cv2.IMREAD_COLOR)\n",
    "part = img[280:340,330:390]\n",
    "img[273:333,100:160]=part\n"
   ],
   "metadata": {
    "collapsed": false,
    "pycharm": {
     "name": "#%%图像ROI\n",
     "is_executing": false
    }
   }
  },
  {
   "cell_type": "code",
   "execution_count": null,
   "outputs": [],
   "source": [
    "import cv2\n",
    "import numpy as np\n",
    "\n",
    "img = cv2.imread('../lena.jpg', cv2.IMREAD_COLOR)\n",
    "# method1：cv2.split方法较为耗时，最好用numpy索引方式，即method2\n",
    "# b,g,r=cv2.split(img)\n",
    "# img=cv2.merge(b,g,r)\n",
    "# method2\n",
    "b = img[:,:,0]\n",
    "g = img[:,:,1]\n",
    "img[:,:,2]=0  # 所有红色通道都赋值为0"
   ],
   "metadata": {
    "collapsed": false,
    "pycharm": {
     "name": "#%%拆分及合并通道\n"
    }
   }
  },
  {
   "cell_type": "code",
   "execution_count": null,
   "outputs": [],
   "source": [
    "import cv2\n",
    "import numpy as np\n",
    "from matplotlib import pyplot as plt\n",
    "BLUE=[0,0,255]\n",
    "img1=cv2.imread('../lena.jpg', cv2.IMREAD_COLOR)\n",
    "img1=cv2.cvtColor(img1, cv2.COLOR_BGR2RGB)\n",
    "replicate = cv2.copyMakeBorder(img1,10,10,10,10,cv2.BORDER_REPLICATE)\n",
    "reflect = cv2.copyMakeBorder(img1,10,10,10,10,cv2.BORDER_REFLECT)\n",
    "reflect101 = cv2.copyMakeBorder(img1,10,10,10,10,cv2.BORDER_REFLECT_101)\n",
    "wrap = cv2.copyMakeBorder(img1,10,10,10,10,cv2.BORDER_WRAP)\n",
    "constant= cv2.copyMakeBorder(img1,10,10,10,10,cv2.BORDER_CONSTANT,value=BLUE)\n",
    "plt.subplot(231),plt.imshow(img1,'gray'),plt.title('ORIGINAL')\n",
    "plt.subplot(232),plt.imshow(replicate,'gray'),plt.title('REPLICATE')\n",
    "plt.subplot(233),plt.imshow(reflect,'gray'),plt.title('REFLECT')\n",
    "plt.subplot(234),plt.imshow(reflect101,'gray'),plt.title('REFLECT_101')\n",
    "plt.subplot(235),plt.imshow(wrap,'gray'),plt.title('WRAP')\n",
    "plt.subplot(236),plt.imshow(constant,'gray'),plt.title('CONSTANT')\n",
    "plt.show()\n",
    "\n"
   ],
   "metadata": {
    "collapsed": false,
    "pycharm": {
     "name": "#%%为图像扩边\n",
     "is_executing": true
    }
   }
  }
 ],
 "metadata": {
  "kernelspec": {
   "display_name": "Python 3",
   "language": "python",
   "name": "python3"
  },
  "language_info": {
   "codemirror_mode": {
    "name": "ipython",
    "version": 2
   },
   "file_extension": ".py",
   "mimetype": "text/x-python",
   "name": "python",
   "nbconvert_exporter": "python",
   "pygments_lexer": "ipython2",
   "version": "2.7.6"
  },
  "pycharm": {
   "stem_cell": {
    "cell_type": "raw",
    "source": [],
    "metadata": {
     "collapsed": false
    }
   }
  }
 },
 "nbformat": 4,
 "nbformat_minor": 0
}