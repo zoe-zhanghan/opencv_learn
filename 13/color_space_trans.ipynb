{
 "cells": [
  {
   "cell_type": "code",
   "execution_count": 1,
   "metadata": {
    "collapsed": true,
    "pycharm": {
     "is_executing": false,
     "name": "#%% 转换颜色空间，标定指定颜色位置\n"
    }
   },
   "outputs": [
    {
     "traceback": [
      "\u001b[1;31m---------------------------------------------------------------------------\u001b[0m",
      "\u001b[1;31merror\u001b[0m                                     Traceback (most recent call last)",
      "\u001b[1;32m<ipython-input-1-b8021ceff52b>\u001b[0m in \u001b[0;36m<module>\u001b[1;34m()\u001b[0m\n\u001b[0;32m      7\u001b[0m     \u001b[0mret\u001b[0m\u001b[1;33m,\u001b[0m\u001b[0mframe\u001b[0m\u001b[1;33m=\u001b[0m\u001b[0mcap\u001b[0m\u001b[1;33m.\u001b[0m\u001b[0mread\u001b[0m\u001b[1;33m(\u001b[0m\u001b[1;33m)\u001b[0m\u001b[1;33m\u001b[0m\u001b[0m\n\u001b[0;32m      8\u001b[0m     \u001b[1;31m# 转换到HSV\u001b[0m\u001b[1;33m\u001b[0m\u001b[1;33m\u001b[0m\u001b[0m\n\u001b[1;32m----> 9\u001b[1;33m     \u001b[0mhsv\u001b[0m\u001b[1;33m=\u001b[0m\u001b[0mcv2\u001b[0m\u001b[1;33m.\u001b[0m\u001b[0mcvtColor\u001b[0m\u001b[1;33m(\u001b[0m\u001b[0mframe\u001b[0m\u001b[1;33m,\u001b[0m\u001b[0mcv2\u001b[0m\u001b[1;33m.\u001b[0m\u001b[0mCOLOR_BGR2HSV\u001b[0m\u001b[1;33m)\u001b[0m\u001b[1;33m\u001b[0m\u001b[0m\n\u001b[0m\u001b[0;32m     10\u001b[0m     \u001b[1;31m# 设定蓝色的阈值：在HSV 颜色空间中要比在BGR 空间中更容易表示一个特定颜色。\u001b[0m\u001b[1;33m\u001b[0m\u001b[1;33m\u001b[0m\u001b[0m\n\u001b[0;32m     11\u001b[0m     \u001b[0mlower_blue\u001b[0m\u001b[1;33m=\u001b[0m\u001b[0mnp\u001b[0m\u001b[1;33m.\u001b[0m\u001b[0marray\u001b[0m\u001b[1;33m(\u001b[0m\u001b[1;33m[\u001b[0m\u001b[1;36m110\u001b[0m\u001b[1;33m,\u001b[0m\u001b[1;36m50\u001b[0m\u001b[1;33m,\u001b[0m\u001b[1;36m50\u001b[0m\u001b[1;33m]\u001b[0m\u001b[1;33m)\u001b[0m\u001b[1;33m\u001b[0m\u001b[0m\n",
      "\u001b[1;31merror\u001b[0m: OpenCV(4.2.0) C:\\projects\\opencv-python\\opencv\\modules\\imgproc\\src\\color.cpp:182: error: (-215:Assertion failed) !_src.empty() in function 'cv::cvtColor'\n"
     ],
     "ename": "error",
     "evalue": "OpenCV(4.2.0) C:\\projects\\opencv-python\\opencv\\modules\\imgproc\\src\\color.cpp:182: error: (-215:Assertion failed) !_src.empty() in function 'cv::cvtColor'\n",
     "output_type": "error"
    }
   ],
   "source": [
    "\"\"\"这是物体跟踪中最简单的方法。当你学习了轮廓之后，你就会学到更多\n",
    "相关知识，那是你就可以找到物体的重心，并根据重心来跟踪物体，仅仅在摄\n",
    "像头前挥挥手就可以画出同的图形，或者其他更有趣的事。\"\"\"\n",
    "\n",
    "import cv2\n",
    "import numpy as np\n",
    "cap=cv2.VideoCapture('../video.mp4')\n",
    "while 1:\n",
    "# 获取每一帧\n",
    "    ret,frame=cap.read()\n",
    "    # 转换到HSV\n",
    "    hsv=cv2.cvtColor(frame,cv2.COLOR_BGR2HSV)\n",
    "    # 设定蓝色的阈值：在HSV 颜色空间中要比在BGR 空间中更容易表示一个特定颜色。\n",
    "    lower_blue=np.array([110,50,50])\n",
    "    upper_blue=np.array([130,255,255])\n",
    "    # 根据阈值构建掩模，蓝色部分设置为255，其余设置为0\n",
    "    mask=cv2.inRange(hsv,lower_blue,upper_blue)\n",
    "    # 对原图像和掩模进行位运算\n",
    "    res=cv2.bitwise_and(frame,frame,mask=mask)\n",
    "    # 显示图像\n",
    "    cv2.imshow('frame',frame)\n",
    "    cv2.imshow('mask',mask)\n",
    "    cv2.imshow('res',res)\n",
    "    k=cv2.waitKey(5)&0xFF\n",
    "    if k==27:\n",
    "        break\n",
    "# 关闭窗口\n",
    "cv2.destroyAllWindows()"
   ]
  },
  {
   "cell_type": "markdown",
   "source": [
    "在OpenCV 中有超过150 中进行颜色空间转换的方法。但是你以后就会\n",
    "发现我们经常用到的也就两种：BGR<->Gray 和BGR<->HSV。\n",
    "\n",
    "注意：在OpenCV 的HSV 格式中，H（色彩/色度）的取值范围是[0，179]，\n",
    "S（饱和度）的取值范围[0，255]，V（亮度）的取值范围[0，255]。但是不\n",
    "同的软件使用的值可能不同。所以当你需要拿OpenCV 的HSV 值与其他软\n",
    "件的HSV 值进行对比时，一定要记得归一化。"
   ],
   "metadata": {
    "collapsed": false
   }
  },
  {
   "cell_type": "code",
   "execution_count": 2,
   "outputs": [],
   "source": [
    "import cv2\n",
    "\n",
    "img = cv2.imread('../lena.jpg')\n",
    "img= cv2.line(img, (0,0),(100,100),(255,255,255),3)\n",
    "cv2.imshow('img', img)\n",
    "cv2.waitKey(0)\n",
    "cv2.destroyAllWindows()"
   ],
   "metadata": {
    "collapsed": false,
    "pycharm": {
     "name": "#%% 全0是黑色，全255是白色\n",
     "is_executing": false
    }
   }
  },
  {
   "cell_type": "code",
   "execution_count": 2,
   "outputs": [
    {
     "name": "stdout",
     "text": [
      "[[[ 60 255 255]]]\n"
     ],
     "output_type": "stream"
    }
   ],
   "source": [
    "import cv2\n",
    "import numpy as np\n",
    "\n",
    "green=np.uint8([[[0,255,0]]])\n",
    "hsv_green=cv2.cvtColor(green,cv2.COLOR_BGR2HSV)\n",
    "\n",
    "print(hsv_green)\n"
   ],
   "metadata": {
    "collapsed": false,
    "pycharm": {
     "name": "#%% 找到跟踪对象的HSV值 现在你可以分别用[H-100，100，100] 和[H+100，255，255] 做绿色上下阈值。\n",
     "is_executing": false
    }
   }
  }
 ],
 "metadata": {
  "kernelspec": {
   "display_name": "Python 3",
   "language": "python",
   "name": "python3"
  },
  "language_info": {
   "codemirror_mode": {
    "name": "ipython",
    "version": 2
   },
   "file_extension": ".py",
   "mimetype": "text/x-python",
   "name": "python",
   "nbconvert_exporter": "python",
   "pygments_lexer": "ipython2",
   "version": "2.7.6"
  },
  "pycharm": {
   "stem_cell": {
    "cell_type": "raw",
    "source": [],
    "metadata": {
     "collapsed": false
    }
   }
  }
 },
 "nbformat": 4,
 "nbformat_minor": 0
}