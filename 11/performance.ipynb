{
 "cells": [
  {
   "cell_type": "code",
   "execution_count": 2,
   "metadata": {
    "collapsed": true,
    "pycharm": {
     "is_executing": false,
     "name": "#%%利用cv2.getTickCount获取当前时钟数，获得代码运行时间\n"
    }
   },
   "outputs": [
    {
     "name": "stdout",
     "text": [
      "2437558.0\n1.4874866567277578\n1.488999843597412\n"
     ],
     "output_type": "stream"
    }
   ],
   "source": [
    "import cv2\n",
    "import numpy as np\n",
    "import time\n",
    "img1 = cv2.imread('../lena.jpg')\n",
    "e1 = cv2.getTickCount()\n",
    "s_t = time.time()\n",
    "for i in np.arange(5,49,2):\n",
    "    img1 = cv2.medianBlur(img1,i)\n",
    "e2 = cv2.getTickCount()\n",
    "t = (e2 - e1)/cv2.getTickFrequency()\n",
    "print(cv2.getTickFrequency())\n",
    "print(t)\n",
    "print(time.time() - s_t)"
   ]
  },
  {
   "cell_type": "code",
   "execution_count": 3,
   "outputs": [
    {
     "name": "stdout",
     "text": [
      "True\n"
     ],
     "output_type": "stream"
    }
   ],
   "source": [
    "import cv2\n",
    "\n",
    "isOpt = cv2.useOptimized()\n",
    "print(isOpt)\n",
    "# cv2.setUseOptimized(False)  # 关闭优化"
   ],
   "metadata": {
    "collapsed": false,
    "pycharm": {
     "name": "#%% OpenCV 中的很多函数都被优化过（使用SSE2，AVX 等）。在编译时优化是被默认开启的。\n",
     "is_executing": false
    }
   }
  },
  {
   "cell_type": "code",
   "execution_count": 4,
   "outputs": [
    {
     "name": "stdout",
     "text": [
      "369 ns ± 18.7 ns per loop (mean ± std. dev. of 7 runs, 1000000 loops each)\n"
     ],
     "output_type": "stream"
    }
   ],
   "source": [
    "x = 'foobar'\n",
    "y = 'foo'\n",
    "%timeit x.startswith(y)"
   ],
   "metadata": {
    "collapsed": false,
    "pycharm": {
     "name": "#%% 使用jupter/ipthon的magic命令，如%timeit等来检测程序效率\n",
     "is_executing": false
    }
   }
  },
  {
   "cell_type": "markdown",
   "source": [
    "首先用简单的方式实现你的算法（结果正确最重要），当结果正确后，再使用上面的提到的方法找到程序的瓶颈来优化它。\n",
    "1. 尽量避免使用循环，尤其双层三层循环，它们天生就是非常慢的。\n",
    "2. 算法中尽量使用向量操作，因为Numpy和OpenCV都对向量操作进行了优化。\n",
    "3. 利用高速缓存一致性。\n",
    "4. 没有必要的话就不要复制数组。使用视图来代替复制。数组复制是非常浪费资源的。\n",
    "\n",
    "就算进行了上述优化，如果你的程序还是很慢，或者说大的训话不可避免的话，你你应该尝试使用其他的包，比如说Cython，来加速你的程序。"
   ],
   "metadata": {
    "collapsed": false
   }
  }
 ],
 "metadata": {
  "kernelspec": {
   "display_name": "Python 3",
   "language": "python",
   "name": "python3"
  },
  "language_info": {
   "codemirror_mode": {
    "name": "ipython",
    "version": 2
   },
   "file_extension": ".py",
   "mimetype": "text/x-python",
   "name": "python",
   "nbconvert_exporter": "python",
   "pygments_lexer": "ipython2",
   "version": "2.7.6"
  },
  "pycharm": {
   "stem_cell": {
    "cell_type": "raw",
    "source": [],
    "metadata": {
     "collapsed": false
    }
   }
  }
 },
 "nbformat": 4,
 "nbformat_minor": 0
}