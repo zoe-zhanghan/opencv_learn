{
 "cells": [
  {
   "cell_type": "code",
   "execution_count": 13,
   "metadata": {
    "collapsed": true,
    "pycharm": {
     "is_executing": false
    }
   },
   "outputs": [
    {
     "name": "stdout",
     "text": [
      "(4, 2)\n(4, 1, 2)\n"
     ],
     "output_type": "stream"
    }
   ],
   "source": [
    "import numpy as np\n",
    "import cv2\n",
    "\n",
    "# 全0为黑色图片\n",
    "img = np.zeros((512,512,3),np.uint8)\n",
    "\n",
    "# 在上面画一条5像素的蓝色对角线\n",
    "cv2.line(img,(0,0),(511,511),(255,0,0),5)\n",
    "# 右上角绿色矩形\n",
    "cv2.rectangle(img, (384,0),(510,128),(0,255,0),3)\n",
    "# 在指定圆心画圆\n",
    "cv2.circle(img,(447,63), 63, (0,0,255), -1)\n",
    "# 指定位置画椭圆\n",
    "cv2.ellipse(img,(256,256),(100,50),0,0,180,255,-1)\n",
    "# 画多边形\n",
    "pts=np.array([[10,5],[20,30],[70,20],[50,10]], np.int32)\n",
    "print(pts.shape)\n",
    "pts=pts.reshape((-1,1,2))\n",
    "print(pts.shape)\n",
    "cv2.polylines(img, pts, True, (255,255,255), 3)\n",
    "# 写文字\n",
    "font=cv2.FONT_HERSHEY_SIMPLEX\n",
    "cv2.putText(img,'OpenCV',(10,500), font, 4,(255,255,255),2)\n",
    "cv2.imshow('img',img)\n",
    "cv2.waitKey(0)\n",
    "cv2.destroyAllWindows()"
   ]
  }
 ],
 "metadata": {
  "kernelspec": {
   "display_name": "Python 3",
   "language": "python",
   "name": "python3"
  },
  "language_info": {
   "codemirror_mode": {
    "name": "ipython",
    "version": 2
   },
   "file_extension": ".py",
   "mimetype": "text/x-python",
   "name": "python",
   "nbconvert_exporter": "python",
   "pygments_lexer": "ipython2",
   "version": "2.7.6"
  },
  "pycharm": {
   "stem_cell": {
    "cell_type": "raw",
    "source": [],
    "metadata": {
     "collapsed": false
    }
   }
  }
 },
 "nbformat": 4,
 "nbformat_minor": 0
}